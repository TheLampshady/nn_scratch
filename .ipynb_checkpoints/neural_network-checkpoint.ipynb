{
 "cells": [
  {
   "cell_type": "code",
   "execution_count": 11,
   "metadata": {},
   "outputs": [],
   "source": [
    "import numpy"
   ]
  },
  {
   "cell_type": "code",
   "execution_count": 17,
   "metadata": {},
   "outputs": [
    {
     "ename": "SyntaxError",
     "evalue": "invalid syntax (<ipython-input-17-2e53c215acf5>, line 28)",
     "output_type": "error",
     "traceback": [
      "\u001b[0;36m  File \u001b[0;32m\"<ipython-input-17-2e53c215acf5>\"\u001b[0;36m, line \u001b[0;32m28\u001b[0m\n\u001b[0;31m    def gen_weights(x, y)\u001b[0m\n\u001b[0m                         ^\u001b[0m\n\u001b[0;31mSyntaxError\u001b[0m\u001b[0;31m:\u001b[0m invalid syntax\n"
     ]
    }
   ],
   "source": [
    "# neural net class\n",
    "class NeuralNetwork(object):\n",
    "    def __init__(self, input_nodes, hidden_nodes, output_notes, learning_rate):\n",
    "        # Node Dimensions \n",
    "        self.input_nodes = input_nodes\n",
    "        self.hidden_nodes = hidden_nodes\n",
    "        self.output_notes = output_notes\n",
    "        \n",
    "        # Learning Rate\n",
    "        self.lr = learning_rate\n",
    "        \n",
    "        #Weights\n",
    "        self.w_input_hidden = self.gen_weights(\n",
    "            self.input_nodes, self.hidden_nodes\n",
    "        )\n",
    "        \n",
    "        self.w_hidden_output = self.gen_weights(\n",
    "            self.hidden_nodes, self.output_notes\n",
    "        )\n",
    "        \n",
    "    def train(self):\n",
    "        pass\n",
    "    \n",
    "    def query(self):\n",
    "        pass\n",
    "    \n",
    "    @staticmethod\n",
    "    def gen_weights(x, y):\n",
    "        return numpy.random.normal(\n",
    "            0.0,\n",
    "            pow(y, -0.5),\n",
    "            (y, x)\n",
    "        )"
   ]
  },
  {
   "cell_type": "code",
   "execution_count": 9,
   "metadata": {
    "collapsed": true
   },
   "outputs": [],
   "source": [
    "inode = 3\n",
    "hnode = 3\n",
    "onode = 3\n",
    "lr = 0.3"
   ]
  },
  {
   "cell_type": "code",
   "execution_count": 10,
   "metadata": {},
   "outputs": [],
   "source": [
    "n = NeuralNetwork(inode, hnode, onode, lr)"
   ]
  },
  {
   "cell_type": "code",
   "execution_count": 16,
   "metadata": {},
   "outputs": [
    {
     "name": "stdout",
     "output_type": "stream",
     "text": [
      "[[-0.22269965 -0.14534064  0.456907  ]\n",
      " [-0.07412323 -0.09281318  0.22731045]\n",
      " [ 0.18141839 -0.03552658  0.08179937]]\n"
     ]
    }
   ],
   "source": [
    "weight = numpy.random.rand(3,3) - .5\n",
    "print(weight)"
   ]
  }
 ],
 "metadata": {
  "kernelspec": {
   "display_name": "Python 3",
   "language": "python",
   "name": "python3"
  },
  "language_info": {
   "codemirror_mode": {
    "name": "ipython",
    "version": 3
   },
   "file_extension": ".py",
   "mimetype": "text/x-python",
   "name": "python",
   "nbconvert_exporter": "python",
   "pygments_lexer": "ipython3",
   "version": "3.6.1"
  }
 },
 "nbformat": 4,
 "nbformat_minor": 2
}
