{
 "cells": [
  {
   "cell_type": "code",
   "execution_count": 10,
   "metadata": {
    "collapsed": true
   },
   "outputs": [],
   "source": [
    "import numpy\n",
    "import scipy.special"
   ]
  },
  {
   "cell_type": "code",
   "execution_count": 18,
   "metadata": {
    "collapsed": true
   },
   "outputs": [],
   "source": [
    "# neural net class\n",
    "class NeuralNetwork(object):\n",
    "    def __init__(self, input_nodes, hidden_nodes, output_notes, learning_rate=0.4):\n",
    "        # Node Dimensions \n",
    "        self.input_nodes = input_nodes\n",
    "        self.hidden_nodes = hidden_nodes\n",
    "        self.output_notes = output_notes\n",
    "        \n",
    "        # Learning Rate\n",
    "        self.lr = learning_rate\n",
    "        \n",
    "        # Activation Function (Signmoid)\n",
    "        self.activation_function = lambda x: scipy.special.expit(x)\n",
    "        \n",
    "        #Weights\n",
    "        self.w_input_hidden = self.gen_weights(\n",
    "            self.input_nodes, self.hidden_nodes\n",
    "        )\n",
    "        \n",
    "        self.w_hidden_output = self.gen_weights(\n",
    "            self.hidden_nodes, self.output_notes\n",
    "        )\n",
    "        \n",
    "    def train(self, inputs_list, targets_list):\n",
    "        inputs = numpy.array(inputs_list, ndmin=2).T\n",
    "        targets = numpy.array(targets_list, ndmin=2).T\n",
    "        \n",
    "        hidden_inputs = numpy.dot(self.w_input_hidden, inputs)\n",
    "        hidden_outputs = self.activation_function(hidden_inputs)\n",
    "        \n",
    "        final_inputs = numpy.dot(self.w_hidden_output, hidden_outputs)\n",
    "        final_outputs = self.activation_function(final_inputs)\n",
    "        \n",
    "        output_errors = targets - final_outputs\n",
    "        hidden_errors = numpy.dot(self.w_hidden_output.T, output_errors)\n",
    "        \n",
    "        self.w_hidden_output += self.weight_delta(output_errors, hidden_outputs, final_outputs)\n",
    "        self.w_input_hidden += self.weight_delta(hidden_errors, hidden_outputs, final_outputs)\n",
    "    \n",
    "    def query(self, inputs_list):\n",
    "        inputs = numpy.array(inputs_list, ndmin=2).T\n",
    "        \n",
    "        hidden_inputs = numpy.dot(self.w_input_hidden, inputs)\n",
    "        \n",
    "        hidden_outputs = self.activation_function(hidden_inputs)\n",
    "        \n",
    "        final_inputs = numpy.dot(self.w_hidden_output, hidden_outputs)\n",
    "        \n",
    "        final_outputs = self.activation_function(final_inputs)\n",
    "        \n",
    "        return final_outputs\n",
    "    \n",
    "    @staticmethod\n",
    "    def gen_weights(nodes1, nodes2):\n",
    "        return numpy.random.normal(\n",
    "            0.0,\n",
    "            pow(nodes2, -0.5),\n",
    "            (nodes2, nodes1)\n",
    "        )\n",
    "    \n",
    "    def weight_delta(self, errors, output1, output2):\n",
    "        return self.lr * numpy.dot(\n",
    "            (errors * output2 * (1.0 - output2)),\n",
    "            numpy.transpose(output1)\n",
    "        )"
   ]
  },
  {
   "cell_type": "code",
   "execution_count": 19,
   "metadata": {},
   "outputs": [],
   "source": [
    "# Initialize size of nework with  \n",
    "inode = 3\n",
    "hnode = 3\n",
    "onode = 3\n",
    "\n",
    "n = NeuralNetwork(inode, hnode, onode)"
   ]
  },
  {
   "cell_type": "code",
   "execution_count": 13,
   "metadata": {},
   "outputs": [
    {
     "name": "stdout",
     "output_type": "stream",
     "text": [
      "[[ 0.31158013 -0.98730772  0.06083078]\n [-0.34807992 -0.52448014 -0.7949376 ]\n [-0.27373261  0.57817339 -0.09384964]]\n"
     ]
    }
   ],
   "source": [
    "# The initial weights of an untouched NN\n",
    "weight_set1 = n.w_input_hidden\n",
    "print(weight_set1)"
   ]
  },
  {
   "cell_type": "code",
   "execution_count": 14,
   "metadata": {},
   "outputs": [
    {
     "name": "stdout",
     "output_type": "stream",
     "text": [
      "[[ 0.59601309]\n [ 0.51838343]\n [ 0.52236893]]\n"
     ]
    }
   ],
   "source": [
    "# The results of a query with 3 inputs\n",
    "entry = [1.0, 0.5, -1.5]\n",
    "result = n.query(entry)\n",
    "print(result)"
   ]
  },
  {
   "cell_type": "code",
   "execution_count": 15,
   "metadata": {},
   "outputs": [
    {
     "name": "stdout",
     "output_type": "stream",
     "text": [
      "[[ 0.31158013 -0.98730772  0.06083078]\n [-0.34807992 -0.52448014 -0.7949376 ]\n [-0.27373261  0.57817339 -0.09384964]]\n"
     ]
    }
   ],
   "source": [
    "# The initial weights of an untouched NN\n",
    "weight_set1 = n.w_input_hidden\n",
    "print(weight_set1)"
   ]
  },
  {
   "cell_type": "code",
   "execution_count": 16,
   "metadata": {},
   "outputs": [
    {
     "name": "stdout",
     "output_type": "stream",
     "text": [
      "[[ 0.31158013 -0.98730772  0.06083078]\n [-0.34807992 -0.52448014 -0.7949376 ]\n [-0.27373261  0.57817339 -0.09384964]]\n"
     ]
    }
   ],
   "source": [
    "# Convert result into input array to use as the target\n",
    "# With the same inputs, and setting the target to the same as the result,\n",
    "#     we should see no change in the network.\n",
    "target = list(result.T[0])\n",
    "n.train(entry, target)\n",
    "print(n.w_input_hidden)"
   ]
  },
  {
   "cell_type": "code",
   "execution_count": 17,
   "metadata": {},
   "outputs": [
    {
     "name": "stdout",
     "output_type": "stream",
     "text": [
      "[[ 0.34456739 -0.93833002  0.10197612]\n [-0.33077823 -0.49879152 -0.77335702]\n [-0.29838239  0.54157472 -0.12459556]]\n"
     ]
    }
   ],
   "source": [
    "# Now with a change to the target, we should see a change in weights.\n",
    "target[0] += 1\n",
    "n.train(entry, target)\n",
    "print(n.w_input_hidden)"
   ]
  },
  {
   "cell_type": "code",
   "execution_count": 10,
   "metadata": {},
   "outputs": [],
   "source": [
    ""
   ]
  },
  {
   "cell_type": "code",
   "execution_count": null,
   "metadata": {},
   "outputs": [],
   "source": [
    ""
   ]
  }
 ],
 "metadata": {
  "kernelspec": {
   "display_name": "Python 3",
   "language": "python",
   "name": "python3"
  },
  "language_info": {
   "codemirror_mode": {
    "name": "ipython",
    "version": 3.0
   },
   "file_extension": ".py",
   "mimetype": "text/x-python",
   "name": "python",
   "nbconvert_exporter": "python",
   "pygments_lexer": "ipython3",
   "version": "3.6.1"
  }
 },
 "nbformat": 4,
 "nbformat_minor": 0
}