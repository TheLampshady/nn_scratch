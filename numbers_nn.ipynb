{
 "cells": [
  {
   "cell_type": "code",
   "execution_count": 2,
   "metadata": {
    "collapsed": true
   },
   "outputs": [],
   "source": [
    "import numpy\n",
    "# library for plotting arrays\n",
    "import matplotlib.pyplot\n",
    "# ensure the plots are inside this notebook,\n",
    "# not an external window\n",
    "%matplotlib inline\n",
    "\n",
    "from model import NeuralNetwork\n",
    "from utils import load_csv, to_nn_input\n",
    "from artist import draw_number, draw_dream, rotate_number"
   ]
  },
  {
   "cell_type": "code",
   "execution_count": 3,
   "metadata": {},
   "outputs": [],
   "source": [
    "# number of input, hidden and output nodes\n",
    "input_nodes = 784\n",
    "hidden_nodes = 100\n",
    "output_nodes = 10\n",
    "# learning rate is 0.3\n",
    "learning_rate = 0.2\n",
    "# #create instance of neural network\n",
    "n = NeuralNetwork(input_nodes,hidden_nodes,output_nodes, learning_rate)"
   ]
  },
  {
   "cell_type": "code",
   "execution_count": 4,
   "metadata": {},
   "outputs": [],
   "source": [
    "train_data = load_csv(\"data/mnist_train.csv\")\n",
    "test_data = load_csv(\"data/mnist_test.csv\")"
   ]
  },
  {
   "cell_type": "code",
   "execution_count": 5,
   "metadata": {
    "collapsed": false
   },
   "outputs": [
    {
     "name": "stdout",
     "output_type": "stream",
     "text": [
      "Epoch:  0\n"
     ]
    },
    {
     "name": "stdout",
     "output_type": "stream",
     "text": [
      "Epoch:  1\n"
     ]
    },
    {
     "name": "stdout",
     "output_type": "stream",
     "text": [
      "Epoch:  2\n"
     ]
    },
    {
     "name": "stdout",
     "output_type": "stream",
     "text": [
      "Epoch:  3\n"
     ]
    },
    {
     "name": "stdout",
     "output_type": "stream",
     "text": [
      "Epoch:  4\n"
     ]
    }
   ],
   "source": [
    "# Training\n",
    "epochs = 5\n",
    "for e in range(epochs):\n",
    "    print(\"Epoch: \", e)\n",
    "    n.train_dataset(train_data)\n",
    "    n.train_dataset([rotate_number(i) for i in train_data])\n",
    "    n.train_dataset([rotate_number(i, -10) for i in train_data])"
   ]
  },
  {
   "cell_type": "code",
   "execution_count": 5,
   "metadata": {},
   "outputs": [
    {
     "name": "stdout",
     "output_type": "stream",
     "text": [
      "7\n"
     ]
    },
    {
     "data": {
      "image/png": "[encoded data removed]",
      "text/plain": [
       "<matplotlib.figure.Figure at 0x10cf45f28>"
      ]
     },
     "metadata": {},
     "output_type": "display_data"
    }
   ],
   "source": [
    "print(test_data[0][0])\n",
    "draw_number(test_data[0])"
   ]
  },
  {
   "cell_type": "code",
   "execution_count": 31,
   "metadata": {},
   "outputs": [
    {
     "data": {
      "text/plain": [
       "array([[ 0.03995076],\n       [ 0.00210457],\n       [ 0.00743725],\n       [ 0.00753534],\n       [ 0.00102642],\n       [ 0.00139327],\n       [ 0.00794972],\n       [ 0.97266134],\n       [ 0.00432417],\n       [ 0.00929683]])"
      ]
     },
     "execution_count": 31,
     "metadata": {},
     "output_type": "execute_result"
    }
   ],
   "source": [
    "input = to_nn_input(test_data[0])\n",
    "n.query(input)"
   ]
  },
  {
   "cell_type": "code",
   "execution_count": 30,
   "metadata": {},
   "outputs": [],
   "source": [
    "scorecard = []\n",
    "# go through all the records in the test data set\n",
    "for record in test_data:\n",
    "    correct_label = int(record[0])\n",
    "    inputs = to_nn_input(record)\n",
    "    outputs = n.query(inputs)\n",
    "\n",
    "    # the index of the highest value corresponds to the label\n",
    "    label = numpy.argmax(outputs)\n",
    "    # append correct or incorrect to list\n",
    "    if label == correct_label:\n",
    "        scorecard.append(1)\n",
    "    else:\n",
    "        scorecard.append(0)"
   ]
  },
  {
   "cell_type": "code",
   "execution_count": 31,
   "metadata": {},
   "outputs": [
    {
     "name": "stdout",
     "output_type": "stream",
     "text": [
      "performance = 0.9586\n"
     ]
    }
   ],
   "source": [
    "scorecard_array = numpy.asarray(scorecard)\n",
    "print (\"performance =\", scorecard_array.sum()/ scorecard_array.size)"
   ]
  },
  {
   "cell_type": "code",
   "execution_count": 6,
   "metadata": {},
   "outputs": [
    {
     "data": {
      "image/png": "[encoded data removed]",
      "text/plain": [
       "<matplotlib.figure.Figure at 0x12fcb52e8>"
      ]
     },
     "metadata": {},
     "output_type": "display_data"
    }
   ],
   "source": [
    "ny_number = 4\n",
    "targets = numpy.zeros(output_nodes) + 0.01\n",
    "targets[ny_number] = 0.99\n",
    "img = n.back_query(targets)\n",
    "draw_dream(img)"
   ]
  },
  {
   "cell_type": "code",
   "execution_count": 14,
   "metadata": {},
   "outputs": [],
   "source": [
    "filename=\"export.nn\"\n",
    "data = n.w_input_hidden.tolist()\n",
    "data += n.w_hidden_output.tolist()\n",
    "with open(filename, 'w') as export_file:\n",
    "    json.dump(data, export_file)\n"
   ]
  },
  {
   "cell_type": "code",
   "execution_count": 11,
   "metadata": {},
   "outputs": [
    {
     "name": "stdout",
     "output_type": "stream",
     "text": [
      "1 [ 0.23987693 -0.11564367 -0.04246276 ..., -0.37584458 -0.39428238\n -0.21104677]\n2 [[ 0.23987693 -0.11564367 -0.04246276 ...,  0.07191927  0.00424173\n   0.05226976]\n [ 0.18125191 -0.0217539  -0.14221374 ...,  0.0361385   0.01753726\n  -0.01780579]\n [-0.51182778 -0.53778355 -0.42834705 ..., -0.40467223 -0.45448192\n  -0.59867811]\n ..., \n [-0.50637758 -0.59929259 -0.48755036 ..., -0.44452708 -0.36020642\n  -0.36198175]\n [-0.41253125 -0.46669012 -0.3935796  ..., -0.46362302 -0.46414152\n  -0.34571183]\n [-0.45625189 -0.44008508 -0.47514188 ..., -0.37584458 -0.39428238\n  -0.21104677]]\n"
     ]
    }
   ],
   "source": [
    "with open(filename, 'r') as import_file:\n",
    "    data = json.load(import_file)\n",
    "data[0] = "
   ]
  },
  {
   "cell_type": "code",
   "execution_count": null,
   "metadata": {},
   "outputs": [],
   "source": [
    ""
   ]
  }
 ],
 "metadata": {
  "kernelspec": {
   "display_name": "Python 3",
   "language": "python",
   "name": "python3"
  },
  "language_info": {
   "codemirror_mode": {
    "name": "ipython",
    "version": 3.0
   },
   "file_extension": ".py",
   "mimetype": "text/x-python",
   "name": "python",
   "nbconvert_exporter": "python",
   "pygments_lexer": "ipython3",
   "version": "3.6.1"
  }
 },
 "nbformat": 4,
 "nbformat_minor": 0
}